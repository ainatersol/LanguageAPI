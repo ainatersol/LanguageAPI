{
 "cells": [
  {
   "cell_type": "code",
   "execution_count": 1,
   "id": "5caeb886",
   "metadata": {
    "scrolled": true
   },
   "outputs": [
    {
     "name": "stdout",
     "output_type": "stream",
     "text": [
      "Requirement already satisfied: cohere in /Users/aina/opt/anaconda3/lib/python3.9/site-packages (4.1.4)\n",
      "Requirement already satisfied: aiohttp<4.0,>=3.0 in /Users/aina/opt/anaconda3/lib/python3.9/site-packages (from cohere) (3.8.4)\n",
      "Requirement already satisfied: backoff<3.0,>=2.0 in /Users/aina/opt/anaconda3/lib/python3.9/site-packages (from cohere) (2.2.1)\n",
      "Requirement already satisfied: requests<3.0,>=2.0 in /Users/aina/opt/anaconda3/lib/python3.9/site-packages (from cohere) (2.26.0)\n",
      "Requirement already satisfied: frozenlist>=1.1.1 in /Users/aina/opt/anaconda3/lib/python3.9/site-packages (from aiohttp<4.0,>=3.0->cohere) (1.3.3)\n",
      "Requirement already satisfied: async-timeout<5.0,>=4.0.0a3 in /Users/aina/opt/anaconda3/lib/python3.9/site-packages (from aiohttp<4.0,>=3.0->cohere) (4.0.2)\n",
      "Requirement already satisfied: attrs>=17.3.0 in /Users/aina/opt/anaconda3/lib/python3.9/site-packages (from aiohttp<4.0,>=3.0->cohere) (21.2.0)\n",
      "Requirement already satisfied: charset-normalizer<4.0,>=2.0 in /Users/aina/opt/anaconda3/lib/python3.9/site-packages (from aiohttp<4.0,>=3.0->cohere) (2.0.4)\n",
      "Requirement already satisfied: multidict<7.0,>=4.5 in /Users/aina/opt/anaconda3/lib/python3.9/site-packages (from aiohttp<4.0,>=3.0->cohere) (6.0.4)\n",
      "Requirement already satisfied: yarl<2.0,>=1.0 in /Users/aina/opt/anaconda3/lib/python3.9/site-packages (from aiohttp<4.0,>=3.0->cohere) (1.8.2)\n",
      "Requirement already satisfied: aiosignal>=1.1.2 in /Users/aina/opt/anaconda3/lib/python3.9/site-packages (from aiohttp<4.0,>=3.0->cohere) (1.3.1)\n",
      "Requirement already satisfied: certifi>=2017.4.17 in /Users/aina/opt/anaconda3/lib/python3.9/site-packages (from requests<3.0,>=2.0->cohere) (2021.10.8)\n",
      "Requirement already satisfied: urllib3<1.27,>=1.21.1 in /Users/aina/opt/anaconda3/lib/python3.9/site-packages (from requests<3.0,>=2.0->cohere) (1.26.7)\n",
      "Requirement already satisfied: idna<4,>=2.5 in /Users/aina/opt/anaconda3/lib/python3.9/site-packages (from requests<3.0,>=2.0->cohere) (3.2)\n",
      "Note: you may need to restart the kernel to use updated packages.\n"
     ]
    }
   ],
   "source": [
    "pip install cohere"
   ]
  },
  {
   "cell_type": "code",
   "execution_count": 2,
   "id": "7fd3521c",
   "metadata": {},
   "outputs": [],
   "source": [
    "import os\n",
    "import pandas as pd\n",
    "import numpy as np\n",
    "import cohere"
   ]
  },
  {
   "cell_type": "code",
   "execution_count": 5,
   "id": "99f59166",
   "metadata": {},
   "outputs": [],
   "source": [
    "from cohere.responses.classify import Example\n",
    "co = cohere.Client()"
   ]
  },
  {
   "cell_type": "code",
   "execution_count": 39,
   "id": "98e293b1-34c1-42a0-ad64-328f4e2fc212",
   "metadata": {},
   "outputs": [
    {
     "name": "stdout",
     "output_type": "stream",
     "text": [
      "[cohere.Generation {\n",
      "\tid: 8330fa37-7e27-4684-8ebc-e58b1658a928\n",
      "\tprompt: what is your name? Answer in 200 words\n",
      "\ttext: \n",
      "My name is [Your Name].\n",
      "\tlikelihood: -0.12746082\n",
      "\ttoken_likelihoods: [TokenLikelihood(token='\\n', likelihood=-0.06316255), TokenLikelihood(token='My', likelihood=-0.12646145), TokenLikelihood(token=' name', likelihood=-0.001078233), TokenLikelihood(token=' is', likelihood=-0.00079705287), TokenLikelihood(token=' [', likelihood=-0.24840447), TokenLikelihood(token='Your', likelihood=-0.43161115), TokenLikelihood(token=' Name', likelihood=-0.13866605), TokenLikelihood(token='].', likelihood=-0.009505603)]\n",
      "}, cohere.Generation {\n",
      "\tid: 9d8bdcf2-9868-4f37-a5aa-f89f654e240d\n",
      "\tprompt: what is your name? Answer in 200 words\n",
      "\ttext: \n",
      "My name is [Your Name].\n",
      "\tlikelihood: -0.12686454\n",
      "\ttoken_likelihoods: [TokenLikelihood(token='\\n', likelihood=-0.06246541), TokenLikelihood(token='My', likelihood=-0.12577893), TokenLikelihood(token=' name', likelihood=-0.001075548), TokenLikelihood(token=' is', likelihood=-0.00079812657), TokenLikelihood(token=' [', likelihood=-0.24597013), TokenLikelihood(token='Your', likelihood=-0.42967108), TokenLikelihood(token=' Name', likelihood=-0.13968295), TokenLikelihood(token='].', likelihood=-0.009474194)]\n",
      "}]\n"
     ]
    }
   ],
   "source": [
    "# Generate\n",
    "\n",
    "prompt = \"what is your name? Answer in 200 words\"\n",
    "response = co.generate(\n",
    "    prompt=prompt,\n",
    "    model='command-xlarge-beta',\n",
    "    num_generations=2, #max = 5\n",
    "    max_tokens=20, #default = 20\n",
    "    temperature=0.3,\n",
    "    frequency_penalty=0.9, #penalty for previously present tokens\n",
    "    presence_penalty=0, #penalty applied equally to all tokens that have appeared (regardless of freq)\n",
    "    return_likelihoods='GENERATION'\n",
    ")\n",
    "\n",
    "print(response.generations)"
   ]
  },
  {
   "cell_type": "code",
   "execution_count": null,
   "id": "b129b080-39fe-4046-8a93-3f8a133df5b9",
   "metadata": {},
   "outputs": [],
   "source": [
    "# Embed"
   ]
  },
  {
   "cell_type": "code",
   "execution_count": 10,
   "id": "737357ac-37d8-405b-9a3e-8b48eb145ee9",
   "metadata": {},
   "outputs": [],
   "source": [
    "# Classification"
   ]
  },
  {
   "cell_type": "code",
   "execution_count": 40,
   "id": "5a226525",
   "metadata": {},
   "outputs": [],
   "source": [
    "examples=[\n",
    "  Example(\"I can't log in\", \"Tech support\"),\n",
    "  Example(\"My studies are not comming through\", \"Tech support\"),\n",
    "  Example(\"I was charged multiple times for the same study. I am upset\", \"Tech support\"),\n",
    "  Example(\"The images do not look like in my system. They are all blurry\", \"Tech support\"),\n",
    "  Example(\"This dog has a clear VHS but it was missed by AI. I do not understand this\", \"Medical\"),\n",
    "  Example(\"I disagree with the findings in this study\", \"Medical\"),\n",
    "  Example(\"I have found an abnormality that ai missed.\", \"Medical\"),\n",
    "]\n",
    "\n",
    "inputs=[\" I want to change my password\",\n",
    "        \"Does my policy cover prescription medication?\",\n",
    "        \"There is an intestinal obstruction in this study\"\n",
    "        ]\n"
   ]
  },
  {
   "cell_type": "code",
   "execution_count": 41,
   "id": "16ca0b61",
   "metadata": {},
   "outputs": [
    {
     "name": "stdout",
     "output_type": "stream",
     "text": [
      "[Classification<prediction: \"Tech support\", confidence: 0.9975515, labels: {'Medical': LabelPrediction(confidence=0.0024485239), 'Tech support': LabelPrediction(confidence=0.9975515)}>, Classification<prediction: \"Tech support\", confidence: 0.88139963, labels: {'Medical': LabelPrediction(confidence=0.11860035), 'Tech support': LabelPrediction(confidence=0.88139963)}>, Classification<prediction: \"Medical\", confidence: 0.91945606, labels: {'Medical': LabelPrediction(confidence=0.91945606), 'Tech support': LabelPrediction(confidence=0.08054394)}>]\n"
     ]
    }
   ],
   "source": [
    "response = co.classify(  \n",
    "    model='large',  \n",
    "    inputs=inputs,  \n",
    "    examples=examples)\n",
    "\n",
    "print(response.classifications)"
   ]
  },
  {
   "cell_type": "code",
   "execution_count": null,
   "id": "dd6d12af-de14-48c1-98d0-8b4044f3f4c3",
   "metadata": {},
   "outputs": [],
   "source": [
    "# Tokenize"
   ]
  },
  {
   "cell_type": "code",
   "execution_count": null,
   "id": "131876b6-0399-4a65-9bad-e78613037147",
   "metadata": {},
   "outputs": [],
   "source": [
    "# Detokenize"
   ]
  },
  {
   "cell_type": "code",
   "execution_count": null,
   "id": "98f53b35-72bf-40c1-8491-ab4d52c6874b",
   "metadata": {},
   "outputs": [],
   "source": [
    "# Detect language"
   ]
  },
  {
   "cell_type": "code",
   "execution_count": 13,
   "id": "d8473ecf-15de-41ea-9df3-750d8afd7f5f",
   "metadata": {},
   "outputs": [],
   "source": [
    "# Summarize"
   ]
  },
  {
   "cell_type": "code",
   "execution_count": 16,
   "id": "f75f1491-8e28-419c-aa9f-bd2fa504f48a",
   "metadata": {},
   "outputs": [],
   "source": [
    "text = \"\"\"\n",
    "In the early 20th century, a group of French artists and writers formed a movement known as surrealism. Surrealism was characterized by its rejection of rationalism and its embrace of the irrational and the subconscious. Surrealist artists and writers sought to tap into the deeper realms of the mind in order to explore the hidden desires, fears, and impulses that underlie human consciousness.\n",
    "\n",
    "The surrealist movement had a profound impact on the art and literature of the 20th century, influencing everything from abstract expressionism to science fiction. However, it was also controversial, with some critics accusing surrealist artists of being too focused on shock value and sensationalism.\n",
    "\n",
    "Despite its controversies, surrealism remains an important artistic and cultural movement, inspiring generations of artists and writers to push the boundaries of what is possible in art and literature. From the surreal dreamscapes of Salvador Dali to the experimental poetry of Andre Breton, surrealism continues to captivate and challenge audiences with its innovative and provocative approach to art.\n",
    "\"\"\""
   ]
  },
  {
   "cell_type": "code",
   "execution_count": 21,
   "id": "ef6c100c-b287-4bda-9dda-f0b039500aba",
   "metadata": {},
   "outputs": [],
   "source": [
    "response = co.summarize(\n",
    "  model='summarize-xlarge',\n",
    "  temperature = 1,\n",
    "    a \n",
    "  text=text,\n",
    ")"
   ]
  },
  {
   "cell_type": "code",
   "execution_count": 19,
   "id": "acba3dbc-4fec-4985-a658-92525de20a23",
   "metadata": {},
   "outputs": [
    {
     "name": "stdout",
     "output_type": "stream",
     "text": [
      "SummarizeResponse(id='5cb5e78d-a2ce-45c4-ae86-8dfc4c59dead', summary='Surrealism is a movement in art and literature that began in the early 20th century. It is characterized by its embrace of the irrational and the subconscious and its rejection of rationalism. Surrealist artists and writers sought to tap into the deeper realms of the mind in order to explore the hidden desires, fears, and impulses that underlie human consciousness. The movement had a profound impact on the art and literature of the 20th century, influencing everything from abstract expressionism to science fiction.', meta={'api_version': {'version': '1'}})\n"
     ]
    }
   ],
   "source": [
    "print(response)"
   ]
  },
  {
   "cell_type": "code",
   "execution_count": null,
   "id": "4d8ba5ae-d1ea-4625-8c2d-96269804a0a9",
   "metadata": {},
   "outputs": [],
   "source": []
  }
 ],
 "metadata": {
  "kernelspec": {
   "display_name": "Python 3 (ipykernel)",
   "language": "python",
   "name": "python3"
  },
  "language_info": {
   "codemirror_mode": {
    "name": "ipython",
    "version": 3
   },
   "file_extension": ".py",
   "mimetype": "text/x-python",
   "name": "python",
   "nbconvert_exporter": "python",
   "pygments_lexer": "ipython3",
   "version": "3.9.7"
  }
 },
 "nbformat": 4,
 "nbformat_minor": 5
}
