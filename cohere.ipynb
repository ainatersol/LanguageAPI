{
 "cells": [
  {
   "cell_type": "markdown",
   "id": "17bc3ccf-f7bf-4625-81c1-d84385256447",
   "metadata": {},
   "source": [
    "# Cohere"
   ]
  },
  {
   "cell_type": "markdown",
   "id": "ede9fc73-4f7f-42e7-b38b-a136f3b91d4a",
   "metadata": {
    "tags": []
   },
   "source": [
    "## Generation"
   ]
  },
  {
   "cell_type": "code",
   "execution_count": 2,
   "id": "2d56c91b-f25e-4df8-aa9f-2c312f11ec0e",
   "metadata": {},
   "outputs": [
    {
     "name": "stdout",
     "output_type": "stream",
     "text": [
      "Prediction: If you want to be an AI researcher, you should be reading books that are related to artificial intelligence. These books can help you understand the field better and give you ideas for your own research. Some examples of books that you might want to read include \"The Art of Computer Programming\" by Donald Knuth, \"The Design and Analysis of Computer Algorithms\" by Jon Bentley, and \"The Machine Learning Bible\" by Peter Norvig.\n"
     ]
    }
   ],
   "source": [
    "import cohere\n",
    "\n",
    "prompt = \"\"\"\n",
    "Write a 2-paragraph essay about the types of books you should be reading if you want to be an AI researcher.\n",
    "\n",
    "Essay:\n",
    "\"\"\"\n",
    "    \n",
    "co = cohere.Client(num_workers=2)\n",
    "response = co.generate(\n",
    "  model='command-xlarge-nightly',\n",
    "  prompt=prompt,\n",
    "  max_tokens=300,\n",
    "  temperature=0.9,\n",
    "  k=0,\n",
    "  stop_sequences=[],\n",
    "  return_likelihoods='NONE')\n",
    "\n",
    "print(f'Prediction: {response.generations[0].text}')"
   ]
  },
  {
   "cell_type": "markdown",
   "id": "88d1af79-448b-4691-a20e-078fa10d942a",
   "metadata": {},
   "source": [
    "## Classification"
   ]
  },
  {
   "cell_type": "code",
   "execution_count": 11,
   "id": "44a5bb72-fd33-4cd1-896b-07a3ad14a1ac",
   "metadata": {},
   "outputs": [
    {
     "name": "stdout",
     "output_type": "stream",
     "text": [
      "The confidence levels of the labels are: [Classification<prediction: \"Home\", confidence: 0.99217945, labels: {'Home': LabelPrediction(confidence=0.99217945), 'Politics': LabelPrediction(confidence=0.00782057)}>]\n"
     ]
    }
   ],
   "source": [
    "import cohere\n",
    "from cohere.responses.classify import Example\n",
    "\n",
    "input_txt = \"The furniture in my room is nice\"\n",
    "ex1 = Example(\"The president is in the white house and does white house things\", \"Politics\")\n",
    "ex2 = Example(\"The House of Representatives is part of Congress\", \"Politics\")\n",
    "ex3 = Example(\"My bed is very soft\", \"Home\")\n",
    "ex4 = Example(\"There are books on my bookshelf\", \"Home\")\n",
    "\n",
    "response = co.classify(\n",
    "  model='large',\n",
    "  inputs=[input_txt],\n",
    "  examples=[ex1, ex2, ex3, ex4],\n",
    ")\n",
    "\n",
    "print(f'The confidence levels of the labels are: {response.classifications}')"
   ]
  },
  {
   "cell_type": "markdown",
   "id": "c94e2830-4e3f-4e21-9444-e5d3524cb8f9",
   "metadata": {},
   "source": [
    "## Embeddings"
   ]
  },
  {
   "cell_type": "code",
   "execution_count": 18,
   "id": "7276f07b-223f-4866-a2f4-3dbaa4b65dd9",
   "metadata": {},
   "outputs": [],
   "source": [
    "import numpy as np\n",
    "import jax as jnp\n",
    "\n",
    "with open(\"data/subreddit_titles.txt\", 'r') as f:\n",
    "    texts = f.readlines()\n",
    "    \n",
    "response = co.embed(\n",
    "  model='large',\n",
    "  texts=texts\n",
    ")\n",
    "\n",
    "\n",
    "emb = np.array(response.embeddings)"
   ]
  },
  {
   "cell_type": "code",
   "execution_count": 22,
   "id": "b04e94b3-4b68-4ae9-81e6-e399fd73e780",
   "metadata": {},
   "outputs": [
    {
     "data": {
      "text/plain": [
       "array([[ 2.3828125 ,  1.9736328 , -1.2929688 , ...,  1.65625   ,\n",
       "         0.6948242 ,  1.8339844 ],\n",
       "       [-0.2758789 ,  0.51904297, -2.5136719 , ...,  1.6386719 ,\n",
       "        -0.19396973,  2.2792969 ],\n",
       "       [ 1.1025391 ,  1.2382812 ,  0.08361816, ...,  0.36499023,\n",
       "        -0.06192017,  1.0976562 ],\n",
       "       ...,\n",
       "       [ 1.3623047 ,  2.2480469 ,  1.5869141 , ...,  1.3798828 ,\n",
       "         0.5522461 ,  0.4501953 ],\n",
       "       [ 1.9169922 ,  0.5214844 ,  1.6210938 , ..., -0.8491211 ,\n",
       "         0.17089844, -0.20837402],\n",
       "       [ 1.5566406 ,  1.0722656 ,  2.9492188 , ...,  0.11413574,\n",
       "        -1.7597656 ,  0.6196289 ]])"
      ]
     },
     "execution_count": 22,
     "metadata": {},
     "output_type": "execute_result"
    }
   ],
   "source": []
  }
 ],
 "metadata": {
  "kernelspec": {
   "display_name": "Python 3 (ipykernel)",
   "language": "python",
   "name": "python3"
  },
  "language_info": {
   "codemirror_mode": {
    "name": "ipython",
    "version": 3
   },
   "file_extension": ".py",
   "mimetype": "text/x-python",
   "name": "python",
   "nbconvert_exporter": "python",
   "pygments_lexer": "ipython3",
   "version": "3.10.0"
  }
 },
 "nbformat": 4,
 "nbformat_minor": 5
}
